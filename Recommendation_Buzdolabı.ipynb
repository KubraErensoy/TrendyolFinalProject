{
  "nbformat": 4,
  "nbformat_minor": 0,
  "metadata": {
    "colab": {
      "provenance": [],
      "collapsed_sections": [],
      "authorship_tag": "ABX9TyMfFj+fu3tn8U/ifEgPTrEw",
      "include_colab_link": true
    },
    "kernelspec": {
      "name": "python3",
      "display_name": "Python 3"
    },
    "language_info": {
      "name": "python"
    }
  },
  "cells": [
    {
      "cell_type": "markdown",
      "metadata": {
        "id": "view-in-github",
        "colab_type": "text"
      },
      "source": [
        "<a href=\"https://colab.research.google.com/github/KubraErensoy/TrendyolFinalProject/blob/main/Recommendation_Buzdolab%C4%B1.ipynb\" target=\"_parent\"><img src=\"https://colab.research.google.com/assets/colab-badge.svg\" alt=\"Open In Colab\"/></a>"
      ]
    },
    {
      "cell_type": "code",
      "execution_count": null,
      "metadata": {
        "colab": {
          "base_uri": "https://localhost:8080/",
          "height": 791
        },
        "id": "2Lyj2ESv3wRb",
        "outputId": "a0b7a25d-7e76-47a4-f881-a637c9ab3f6c"
      },
      "outputs": [
        {
          "output_type": "execute_result",
          "data": {
            "text/plain": [
              "                                 NAME OF THE PRODUCT  BRAND NAME  \\\n",
              "0   Bt 1001 A+ Office Desk Type Mini Refrigerator...       regal   \n",
              "1             NF45001 No-Frost Refrigerator 20263687      VESTEL   \n",
              "2            RB50RS334SA Combi No Frost Refrigerator     Samsung   \n",
              "3             Al 328 B Buy 257 Lt Refrigerator 328 B       altus   \n",
              "4      NFK48001 No-Frost Combi Refrigerator 20263706      VESTEL   \n",
              "\n",
              "     MODEL NAME   TOTAL VOLUME   HEIGHT   WIDTH  FREEZER FEATURE  \\\n",
              "0            IT           90.0    140.0    45.0           Static   \n",
              "1       NF45001          600.0      NaN     NaN         No Frost   \n",
              "2   RB50RS334SA          600.0    180.0    75.0         No Frost   \n",
              "3           Get          400.0    140.0    45.0           Static   \n",
              "4      NFK48001          600.0      NaN     NaN         No Frost   \n",
              "\n",
              "         MEDICINE  ENERGY_CLASS   WARRANTY_PERIOD  COLOUR   DEPTH  \\\n",
              "0   Under Counter            A+               2.0   White    50.0   \n",
              "1     Double Door             F               3.0   White     NaN   \n",
              "2      Combi Type             F               3.0    Grey    75.0   \n",
              "3     Double Door             F               3.0   White    50.0   \n",
              "4      Combi Type             F               3.0   White     NaN   \n",
              "\n",
              "   FREEZER LOCATION    PRICE   POINTS  \\\n",
              "0            on top   2335.0      3.8   \n",
              "1               NaN   8099.0      4.5   \n",
              "2             Below  14849.0      4.4   \n",
              "3               NaN   5299.0      4.4   \n",
              "4               NaN   9150.0      4.5   \n",
              "\n",
              "                                            COMMENTS   EVALUATION  \\\n",
              "0   bad service - REGAL MINI FRIDGE WORKS VERY WE...        107.0   \n",
              "1   We bought it when it was on sale, thank you v...        197.0   \n",
              "2   An ideal product for large families. I like i...        296.0   \n",
              "3   Ideal product for a family of 2/3, it works f...         93.0   \n",
              "4   Thank you so much. The friends who brought th...        167.0   \n",
              "\n",
              "    COMMENT_NUM  \n",
              "0          73.0  \n",
              "1         138.0  \n",
              "2         232.0  \n",
              "3          60.0  \n",
              "4         128.0  "
            ],
            "text/html": [
              "\n",
              "  <div id=\"df-6374723b-4015-4eb9-93a7-9299e81d2891\">\n",
              "    <div class=\"colab-df-container\">\n",
              "      <div>\n",
              "<style scoped>\n",
              "    .dataframe tbody tr th:only-of-type {\n",
              "        vertical-align: middle;\n",
              "    }\n",
              "\n",
              "    .dataframe tbody tr th {\n",
              "        vertical-align: top;\n",
              "    }\n",
              "\n",
              "    .dataframe thead th {\n",
              "        text-align: right;\n",
              "    }\n",
              "</style>\n",
              "<table border=\"1\" class=\"dataframe\">\n",
              "  <thead>\n",
              "    <tr style=\"text-align: right;\">\n",
              "      <th></th>\n",
              "      <th>NAME OF THE PRODUCT</th>\n",
              "      <th>BRAND NAME</th>\n",
              "      <th>MODEL NAME</th>\n",
              "      <th>TOTAL VOLUME</th>\n",
              "      <th>HEIGHT</th>\n",
              "      <th>WIDTH</th>\n",
              "      <th>FREEZER FEATURE</th>\n",
              "      <th>MEDICINE</th>\n",
              "      <th>ENERGY_CLASS</th>\n",
              "      <th>WARRANTY_PERIOD</th>\n",
              "      <th>COLOUR</th>\n",
              "      <th>DEPTH</th>\n",
              "      <th>FREEZER LOCATION</th>\n",
              "      <th>PRICE</th>\n",
              "      <th>POINTS</th>\n",
              "      <th>COMMENTS</th>\n",
              "      <th>EVALUATION</th>\n",
              "      <th>COMMENT_NUM</th>\n",
              "    </tr>\n",
              "  </thead>\n",
              "  <tbody>\n",
              "    <tr>\n",
              "      <th>0</th>\n",
              "      <td>Bt 1001 A+ Office Desk Type Mini Refrigerator...</td>\n",
              "      <td>regal</td>\n",
              "      <td>IT</td>\n",
              "      <td>90.0</td>\n",
              "      <td>140.0</td>\n",
              "      <td>45.0</td>\n",
              "      <td>Static</td>\n",
              "      <td>Under Counter</td>\n",
              "      <td>A+</td>\n",
              "      <td>2.0</td>\n",
              "      <td>White</td>\n",
              "      <td>50.0</td>\n",
              "      <td>on top</td>\n",
              "      <td>2335.0</td>\n",
              "      <td>3.8</td>\n",
              "      <td>bad service - REGAL MINI FRIDGE WORKS VERY WE...</td>\n",
              "      <td>107.0</td>\n",
              "      <td>73.0</td>\n",
              "    </tr>\n",
              "    <tr>\n",
              "      <th>1</th>\n",
              "      <td>NF45001 No-Frost Refrigerator 20263687</td>\n",
              "      <td>VESTEL</td>\n",
              "      <td>NF45001</td>\n",
              "      <td>600.0</td>\n",
              "      <td>NaN</td>\n",
              "      <td>NaN</td>\n",
              "      <td>No Frost</td>\n",
              "      <td>Double Door</td>\n",
              "      <td>F</td>\n",
              "      <td>3.0</td>\n",
              "      <td>White</td>\n",
              "      <td>NaN</td>\n",
              "      <td>NaN</td>\n",
              "      <td>8099.0</td>\n",
              "      <td>4.5</td>\n",
              "      <td>We bought it when it was on sale, thank you v...</td>\n",
              "      <td>197.0</td>\n",
              "      <td>138.0</td>\n",
              "    </tr>\n",
              "    <tr>\n",
              "      <th>2</th>\n",
              "      <td>RB50RS334SA Combi No Frost Refrigerator</td>\n",
              "      <td>Samsung</td>\n",
              "      <td>RB50RS334SA</td>\n",
              "      <td>600.0</td>\n",
              "      <td>180.0</td>\n",
              "      <td>75.0</td>\n",
              "      <td>No Frost</td>\n",
              "      <td>Combi Type</td>\n",
              "      <td>F</td>\n",
              "      <td>3.0</td>\n",
              "      <td>Grey</td>\n",
              "      <td>75.0</td>\n",
              "      <td>Below</td>\n",
              "      <td>14849.0</td>\n",
              "      <td>4.4</td>\n",
              "      <td>An ideal product for large families. I like i...</td>\n",
              "      <td>296.0</td>\n",
              "      <td>232.0</td>\n",
              "    </tr>\n",
              "    <tr>\n",
              "      <th>3</th>\n",
              "      <td>Al 328 B Buy 257 Lt Refrigerator 328 B</td>\n",
              "      <td>altus</td>\n",
              "      <td>Get</td>\n",
              "      <td>400.0</td>\n",
              "      <td>140.0</td>\n",
              "      <td>45.0</td>\n",
              "      <td>Static</td>\n",
              "      <td>Double Door</td>\n",
              "      <td>F</td>\n",
              "      <td>3.0</td>\n",
              "      <td>White</td>\n",
              "      <td>50.0</td>\n",
              "      <td>NaN</td>\n",
              "      <td>5299.0</td>\n",
              "      <td>4.4</td>\n",
              "      <td>Ideal product for a family of 2/3, it works f...</td>\n",
              "      <td>93.0</td>\n",
              "      <td>60.0</td>\n",
              "    </tr>\n",
              "    <tr>\n",
              "      <th>4</th>\n",
              "      <td>NFK48001 No-Frost Combi Refrigerator 20263706</td>\n",
              "      <td>VESTEL</td>\n",
              "      <td>NFK48001</td>\n",
              "      <td>600.0</td>\n",
              "      <td>NaN</td>\n",
              "      <td>NaN</td>\n",
              "      <td>No Frost</td>\n",
              "      <td>Combi Type</td>\n",
              "      <td>F</td>\n",
              "      <td>3.0</td>\n",
              "      <td>White</td>\n",
              "      <td>NaN</td>\n",
              "      <td>NaN</td>\n",
              "      <td>9150.0</td>\n",
              "      <td>4.5</td>\n",
              "      <td>Thank you so much. The friends who brought th...</td>\n",
              "      <td>167.0</td>\n",
              "      <td>128.0</td>\n",
              "    </tr>\n",
              "  </tbody>\n",
              "</table>\n",
              "</div>\n",
              "      <button class=\"colab-df-convert\" onclick=\"convertToInteractive('df-6374723b-4015-4eb9-93a7-9299e81d2891')\"\n",
              "              title=\"Convert this dataframe to an interactive table.\"\n",
              "              style=\"display:none;\">\n",
              "        \n",
              "  <svg xmlns=\"http://www.w3.org/2000/svg\" height=\"24px\"viewBox=\"0 0 24 24\"\n",
              "       width=\"24px\">\n",
              "    <path d=\"M0 0h24v24H0V0z\" fill=\"none\"/>\n",
              "    <path d=\"M18.56 5.44l.94 2.06.94-2.06 2.06-.94-2.06-.94-.94-2.06-.94 2.06-2.06.94zm-11 1L8.5 8.5l.94-2.06 2.06-.94-2.06-.94L8.5 2.5l-.94 2.06-2.06.94zm10 10l.94 2.06.94-2.06 2.06-.94-2.06-.94-.94-2.06-.94 2.06-2.06.94z\"/><path d=\"M17.41 7.96l-1.37-1.37c-.4-.4-.92-.59-1.43-.59-.52 0-1.04.2-1.43.59L10.3 9.45l-7.72 7.72c-.78.78-.78 2.05 0 2.83L4 21.41c.39.39.9.59 1.41.59.51 0 1.02-.2 1.41-.59l7.78-7.78 2.81-2.81c.8-.78.8-2.07 0-2.86zM5.41 20L4 18.59l7.72-7.72 1.47 1.35L5.41 20z\"/>\n",
              "  </svg>\n",
              "      </button>\n",
              "      \n",
              "  <style>\n",
              "    .colab-df-container {\n",
              "      display:flex;\n",
              "      flex-wrap:wrap;\n",
              "      gap: 12px;\n",
              "    }\n",
              "\n",
              "    .colab-df-convert {\n",
              "      background-color: #E8F0FE;\n",
              "      border: none;\n",
              "      border-radius: 50%;\n",
              "      cursor: pointer;\n",
              "      display: none;\n",
              "      fill: #1967D2;\n",
              "      height: 32px;\n",
              "      padding: 0 0 0 0;\n",
              "      width: 32px;\n",
              "    }\n",
              "\n",
              "    .colab-df-convert:hover {\n",
              "      background-color: #E2EBFA;\n",
              "      box-shadow: 0px 1px 2px rgba(60, 64, 67, 0.3), 0px 1px 3px 1px rgba(60, 64, 67, 0.15);\n",
              "      fill: #174EA6;\n",
              "    }\n",
              "\n",
              "    [theme=dark] .colab-df-convert {\n",
              "      background-color: #3B4455;\n",
              "      fill: #D2E3FC;\n",
              "    }\n",
              "\n",
              "    [theme=dark] .colab-df-convert:hover {\n",
              "      background-color: #434B5C;\n",
              "      box-shadow: 0px 1px 3px 1px rgba(0, 0, 0, 0.15);\n",
              "      filter: drop-shadow(0px 1px 2px rgba(0, 0, 0, 0.3));\n",
              "      fill: #FFFFFF;\n",
              "    }\n",
              "  </style>\n",
              "\n",
              "      <script>\n",
              "        const buttonEl =\n",
              "          document.querySelector('#df-6374723b-4015-4eb9-93a7-9299e81d2891 button.colab-df-convert');\n",
              "        buttonEl.style.display =\n",
              "          google.colab.kernel.accessAllowed ? 'block' : 'none';\n",
              "\n",
              "        async function convertToInteractive(key) {\n",
              "          const element = document.querySelector('#df-6374723b-4015-4eb9-93a7-9299e81d2891');\n",
              "          const dataTable =\n",
              "            await google.colab.kernel.invokeFunction('convertToInteractive',\n",
              "                                                     [key], {});\n",
              "          if (!dataTable) return;\n",
              "\n",
              "          const docLinkHtml = 'Like what you see? Visit the ' +\n",
              "            '<a target=\"_blank\" href=https://colab.research.google.com/notebooks/data_table.ipynb>data table notebook</a>'\n",
              "            + ' to learn more about interactive tables.';\n",
              "          element.innerHTML = '';\n",
              "          dataTable['output_type'] = 'display_data';\n",
              "          await google.colab.output.renderOutput(dataTable, element);\n",
              "          const docLink = document.createElement('div');\n",
              "          docLink.innerHTML = docLinkHtml;\n",
              "          element.appendChild(docLink);\n",
              "        }\n",
              "      </script>\n",
              "    </div>\n",
              "  </div>\n",
              "  "
            ]
          },
          "metadata": {},
          "execution_count": 1
        }
      ],
      "source": [
        "# Import Pandas\n",
        "import pandas as pd\n",
        "\n",
        "# Recommendation sistemi için 1000 satırlık data seti kullandık.\n",
        "data = pd.read_excel('Buzdolabi_recommendation_ing.xlsx')\n",
        "\n",
        "# Print the first three rows\n",
        "data.head()"
      ]
    },
    {
      "cell_type": "code",
      "source": [
        "data = data.rename(columns={\"NAME OF THE PRODUCT\": \"urun_adı\",\n",
        "                            \" BRAND NAME\": \"marka_adı\", \n",
        "                            \" MODEL NAME\": \"model_adı\",\n",
        "                            \" TOTAL VOLUME\":\"toplam_hacim\",\n",
        "                            \" HEIGHT\": \"yukseklik\",\n",
        "                            \" WIDTH\": \"genislik\" ,\n",
        "                            \" FREEZER FEATURE\": \"dondurucu_ozelligi\",\n",
        "                            \" MEDICINE\": \"tip\",\n",
        "                            \" ENERGY_CLASS\": \"enerji_sınıfı\", \n",
        "                            \" WARRANTY_PERIOD\": \"garanti_suresi\" , \n",
        "                            \" COLOUR\": \"renk\" , \n",
        "                            \" DEPTH\": \"derinlik\", \n",
        "                            \" FREEZER LOCATION\": \"dondurucu_yeri\", \n",
        "                            \" PRICE\": \"fiyat\", \n",
        "                            \" POINTS\": \"yıldız\", \n",
        "                            \" COMMENTS\": \"yorumlar\",\n",
        "                         \" EVALUATION\": \"degerlendirme\",\n",
        "                         \" COMMENT_NUM\": \"yorum_sayısı\"\n",
        "                        })\n",
        "data.head(10)"
      ],
      "metadata": {
        "colab": {
          "base_uri": "https://localhost:8080/",
          "height": 1000
        },
        "id": "jMombmiOGpRM",
        "outputId": "ab734cbe-2aa8-4596-aeda-502cf34fc402"
      },
      "execution_count": null,
      "outputs": [
        {
          "output_type": "execute_result",
          "data": {
            "text/plain": [
              "                                            urun_adı marka_adı     model_adı  \\\n",
              "0   Bt 1001 A+ Office Desk Type Mini Refrigerator...     regal            IT   \n",
              "1             NF45001 No-Frost Refrigerator 20263687    VESTEL       NF45001   \n",
              "2            RB50RS334SA Combi No Frost Refrigerator   Samsung   RB50RS334SA   \n",
              "3             Al 328 B Buy 257 Lt Refrigerator 328 B     altus           Get   \n",
              "4      NFK48001 No-Frost Combi Refrigerator 20263706    VESTEL      NFK48001   \n",
              "5             NF48001 No-Frost Refrigerator 20263685    VESTEL       NF48001   \n",
              "6                 SC25001 250 LT Static Refrigerator    VESTEL       SC25001   \n",
              "7   270482 MI Inox Freezer at Bottom No Frost Ref...   Arcelik        270482   \n",
              "8      RT46K6000WW Double Door No-Frost Refrigerator   Samsung   RT46K6000WW   \n",
              "9   Rb50rs334ww A Combi No Frost Refrigerator RB5...   Samsung   Rb50rs334ww   \n",
              "\n",
              "   toplam_hacim  yukseklik  genislik dondurucu_ozelligi             tip  \\\n",
              "0          90.0      140.0      45.0             Static   Under Counter   \n",
              "1         600.0        NaN       NaN           No Frost     Double Door   \n",
              "2         600.0      180.0      75.0           No Frost      Combi Type   \n",
              "3         400.0      140.0      45.0             Static     Double Door   \n",
              "4         600.0        NaN       NaN           No Frost      Combi Type   \n",
              "5         600.0        NaN       NaN           No Frost     Double Door   \n",
              "6         400.0      140.0      45.0             Static     Double Door   \n",
              "7         600.0      165.0      60.0           No Frost      Combi Type   \n",
              "8         600.0      180.0      60.0           No Frost     Double Door   \n",
              "9         600.0      180.0      75.0           No Frost      Combi Type   \n",
              "\n",
              "  enerji_sınıfı  garanti_suresi    renk  derinlik dondurucu_yeri    fiyat  \\\n",
              "0            A+             2.0   White      50.0         on top   2335.0   \n",
              "1             F             3.0   White       NaN            NaN   8099.0   \n",
              "2             F             3.0    Grey      75.0          Below  14849.0   \n",
              "3             F             3.0   White      50.0            NaN   5299.0   \n",
              "4             F             3.0   White       NaN            NaN   9150.0   \n",
              "5             F             3.0   White       NaN            NaN   8380.0   \n",
              "6             F             3.0   White      50.0         on top   5589.0   \n",
              "7             C             3.0    Grey      65.0          Below  11000.0   \n",
              "8             F             3.0   White      70.0         on top   9399.0   \n",
              "9             F             3.0   White      70.0          Below  13810.0   \n",
              "\n",
              "   yıldız                                           yorumlar  degerlendirme  \\\n",
              "0     3.8   bad service - REGAL MINI FRIDGE WORKS VERY WE...          107.0   \n",
              "1     4.5   We bought it when it was on sale, thank you v...          197.0   \n",
              "2     4.4   An ideal product for large families. I like i...          296.0   \n",
              "3     4.4   Ideal product for a family of 2/3, it works f...           93.0   \n",
              "4     4.5   Thank you so much. The friends who brought th...          167.0   \n",
              "5     4.6   The refrigerator is really nice. I would also...          347.0   \n",
              "6     3.9   It's been a few weeks since I bought the refr...          103.0   \n",
              "7     5.0   you are amazing💕 shipping process, communicat...            6.0   \n",
              "8     4.6   Samsung quality has been for 1 month, I've be...          431.0   \n",
              "9     4.5   The product was bought for a dowry, but I use...          237.0   \n",
              "\n",
              "   yorum_sayısı  \n",
              "0          73.0  \n",
              "1         138.0  \n",
              "2         232.0  \n",
              "3          60.0  \n",
              "4         128.0  \n",
              "5         255.0  \n",
              "6          71.0  \n",
              "7           6.0  \n",
              "8         323.0  \n",
              "9         190.0  "
            ],
            "text/html": [
              "\n",
              "  <div id=\"df-8022ee45-7246-49ba-a72f-9f3f65ee8b7f\">\n",
              "    <div class=\"colab-df-container\">\n",
              "      <div>\n",
              "<style scoped>\n",
              "    .dataframe tbody tr th:only-of-type {\n",
              "        vertical-align: middle;\n",
              "    }\n",
              "\n",
              "    .dataframe tbody tr th {\n",
              "        vertical-align: top;\n",
              "    }\n",
              "\n",
              "    .dataframe thead th {\n",
              "        text-align: right;\n",
              "    }\n",
              "</style>\n",
              "<table border=\"1\" class=\"dataframe\">\n",
              "  <thead>\n",
              "    <tr style=\"text-align: right;\">\n",
              "      <th></th>\n",
              "      <th>urun_adı</th>\n",
              "      <th>marka_adı</th>\n",
              "      <th>model_adı</th>\n",
              "      <th>toplam_hacim</th>\n",
              "      <th>yukseklik</th>\n",
              "      <th>genislik</th>\n",
              "      <th>dondurucu_ozelligi</th>\n",
              "      <th>tip</th>\n",
              "      <th>enerji_sınıfı</th>\n",
              "      <th>garanti_suresi</th>\n",
              "      <th>renk</th>\n",
              "      <th>derinlik</th>\n",
              "      <th>dondurucu_yeri</th>\n",
              "      <th>fiyat</th>\n",
              "      <th>yıldız</th>\n",
              "      <th>yorumlar</th>\n",
              "      <th>degerlendirme</th>\n",
              "      <th>yorum_sayısı</th>\n",
              "    </tr>\n",
              "  </thead>\n",
              "  <tbody>\n",
              "    <tr>\n",
              "      <th>0</th>\n",
              "      <td>Bt 1001 A+ Office Desk Type Mini Refrigerator...</td>\n",
              "      <td>regal</td>\n",
              "      <td>IT</td>\n",
              "      <td>90.0</td>\n",
              "      <td>140.0</td>\n",
              "      <td>45.0</td>\n",
              "      <td>Static</td>\n",
              "      <td>Under Counter</td>\n",
              "      <td>A+</td>\n",
              "      <td>2.0</td>\n",
              "      <td>White</td>\n",
              "      <td>50.0</td>\n",
              "      <td>on top</td>\n",
              "      <td>2335.0</td>\n",
              "      <td>3.8</td>\n",
              "      <td>bad service - REGAL MINI FRIDGE WORKS VERY WE...</td>\n",
              "      <td>107.0</td>\n",
              "      <td>73.0</td>\n",
              "    </tr>\n",
              "    <tr>\n",
              "      <th>1</th>\n",
              "      <td>NF45001 No-Frost Refrigerator 20263687</td>\n",
              "      <td>VESTEL</td>\n",
              "      <td>NF45001</td>\n",
              "      <td>600.0</td>\n",
              "      <td>NaN</td>\n",
              "      <td>NaN</td>\n",
              "      <td>No Frost</td>\n",
              "      <td>Double Door</td>\n",
              "      <td>F</td>\n",
              "      <td>3.0</td>\n",
              "      <td>White</td>\n",
              "      <td>NaN</td>\n",
              "      <td>NaN</td>\n",
              "      <td>8099.0</td>\n",
              "      <td>4.5</td>\n",
              "      <td>We bought it when it was on sale, thank you v...</td>\n",
              "      <td>197.0</td>\n",
              "      <td>138.0</td>\n",
              "    </tr>\n",
              "    <tr>\n",
              "      <th>2</th>\n",
              "      <td>RB50RS334SA Combi No Frost Refrigerator</td>\n",
              "      <td>Samsung</td>\n",
              "      <td>RB50RS334SA</td>\n",
              "      <td>600.0</td>\n",
              "      <td>180.0</td>\n",
              "      <td>75.0</td>\n",
              "      <td>No Frost</td>\n",
              "      <td>Combi Type</td>\n",
              "      <td>F</td>\n",
              "      <td>3.0</td>\n",
              "      <td>Grey</td>\n",
              "      <td>75.0</td>\n",
              "      <td>Below</td>\n",
              "      <td>14849.0</td>\n",
              "      <td>4.4</td>\n",
              "      <td>An ideal product for large families. I like i...</td>\n",
              "      <td>296.0</td>\n",
              "      <td>232.0</td>\n",
              "    </tr>\n",
              "    <tr>\n",
              "      <th>3</th>\n",
              "      <td>Al 328 B Buy 257 Lt Refrigerator 328 B</td>\n",
              "      <td>altus</td>\n",
              "      <td>Get</td>\n",
              "      <td>400.0</td>\n",
              "      <td>140.0</td>\n",
              "      <td>45.0</td>\n",
              "      <td>Static</td>\n",
              "      <td>Double Door</td>\n",
              "      <td>F</td>\n",
              "      <td>3.0</td>\n",
              "      <td>White</td>\n",
              "      <td>50.0</td>\n",
              "      <td>NaN</td>\n",
              "      <td>5299.0</td>\n",
              "      <td>4.4</td>\n",
              "      <td>Ideal product for a family of 2/3, it works f...</td>\n",
              "      <td>93.0</td>\n",
              "      <td>60.0</td>\n",
              "    </tr>\n",
              "    <tr>\n",
              "      <th>4</th>\n",
              "      <td>NFK48001 No-Frost Combi Refrigerator 20263706</td>\n",
              "      <td>VESTEL</td>\n",
              "      <td>NFK48001</td>\n",
              "      <td>600.0</td>\n",
              "      <td>NaN</td>\n",
              "      <td>NaN</td>\n",
              "      <td>No Frost</td>\n",
              "      <td>Combi Type</td>\n",
              "      <td>F</td>\n",
              "      <td>3.0</td>\n",
              "      <td>White</td>\n",
              "      <td>NaN</td>\n",
              "      <td>NaN</td>\n",
              "      <td>9150.0</td>\n",
              "      <td>4.5</td>\n",
              "      <td>Thank you so much. The friends who brought th...</td>\n",
              "      <td>167.0</td>\n",
              "      <td>128.0</td>\n",
              "    </tr>\n",
              "    <tr>\n",
              "      <th>5</th>\n",
              "      <td>NF48001 No-Frost Refrigerator 20263685</td>\n",
              "      <td>VESTEL</td>\n",
              "      <td>NF48001</td>\n",
              "      <td>600.0</td>\n",
              "      <td>NaN</td>\n",
              "      <td>NaN</td>\n",
              "      <td>No Frost</td>\n",
              "      <td>Double Door</td>\n",
              "      <td>F</td>\n",
              "      <td>3.0</td>\n",
              "      <td>White</td>\n",
              "      <td>NaN</td>\n",
              "      <td>NaN</td>\n",
              "      <td>8380.0</td>\n",
              "      <td>4.6</td>\n",
              "      <td>The refrigerator is really nice. I would also...</td>\n",
              "      <td>347.0</td>\n",
              "      <td>255.0</td>\n",
              "    </tr>\n",
              "    <tr>\n",
              "      <th>6</th>\n",
              "      <td>SC25001 250 LT Static Refrigerator</td>\n",
              "      <td>VESTEL</td>\n",
              "      <td>SC25001</td>\n",
              "      <td>400.0</td>\n",
              "      <td>140.0</td>\n",
              "      <td>45.0</td>\n",
              "      <td>Static</td>\n",
              "      <td>Double Door</td>\n",
              "      <td>F</td>\n",
              "      <td>3.0</td>\n",
              "      <td>White</td>\n",
              "      <td>50.0</td>\n",
              "      <td>on top</td>\n",
              "      <td>5589.0</td>\n",
              "      <td>3.9</td>\n",
              "      <td>It's been a few weeks since I bought the refr...</td>\n",
              "      <td>103.0</td>\n",
              "      <td>71.0</td>\n",
              "    </tr>\n",
              "    <tr>\n",
              "      <th>7</th>\n",
              "      <td>270482 MI Inox Freezer at Bottom No Frost Ref...</td>\n",
              "      <td>Arcelik</td>\n",
              "      <td>270482</td>\n",
              "      <td>600.0</td>\n",
              "      <td>165.0</td>\n",
              "      <td>60.0</td>\n",
              "      <td>No Frost</td>\n",
              "      <td>Combi Type</td>\n",
              "      <td>C</td>\n",
              "      <td>3.0</td>\n",
              "      <td>Grey</td>\n",
              "      <td>65.0</td>\n",
              "      <td>Below</td>\n",
              "      <td>11000.0</td>\n",
              "      <td>5.0</td>\n",
              "      <td>you are amazing💕 shipping process, communicat...</td>\n",
              "      <td>6.0</td>\n",
              "      <td>6.0</td>\n",
              "    </tr>\n",
              "    <tr>\n",
              "      <th>8</th>\n",
              "      <td>RT46K6000WW Double Door No-Frost Refrigerator</td>\n",
              "      <td>Samsung</td>\n",
              "      <td>RT46K6000WW</td>\n",
              "      <td>600.0</td>\n",
              "      <td>180.0</td>\n",
              "      <td>60.0</td>\n",
              "      <td>No Frost</td>\n",
              "      <td>Double Door</td>\n",
              "      <td>F</td>\n",
              "      <td>3.0</td>\n",
              "      <td>White</td>\n",
              "      <td>70.0</td>\n",
              "      <td>on top</td>\n",
              "      <td>9399.0</td>\n",
              "      <td>4.6</td>\n",
              "      <td>Samsung quality has been for 1 month, I've be...</td>\n",
              "      <td>431.0</td>\n",
              "      <td>323.0</td>\n",
              "    </tr>\n",
              "    <tr>\n",
              "      <th>9</th>\n",
              "      <td>Rb50rs334ww A Combi No Frost Refrigerator RB5...</td>\n",
              "      <td>Samsung</td>\n",
              "      <td>Rb50rs334ww</td>\n",
              "      <td>600.0</td>\n",
              "      <td>180.0</td>\n",
              "      <td>75.0</td>\n",
              "      <td>No Frost</td>\n",
              "      <td>Combi Type</td>\n",
              "      <td>F</td>\n",
              "      <td>3.0</td>\n",
              "      <td>White</td>\n",
              "      <td>70.0</td>\n",
              "      <td>Below</td>\n",
              "      <td>13810.0</td>\n",
              "      <td>4.5</td>\n",
              "      <td>The product was bought for a dowry, but I use...</td>\n",
              "      <td>237.0</td>\n",
              "      <td>190.0</td>\n",
              "    </tr>\n",
              "  </tbody>\n",
              "</table>\n",
              "</div>\n",
              "      <button class=\"colab-df-convert\" onclick=\"convertToInteractive('df-8022ee45-7246-49ba-a72f-9f3f65ee8b7f')\"\n",
              "              title=\"Convert this dataframe to an interactive table.\"\n",
              "              style=\"display:none;\">\n",
              "        \n",
              "  <svg xmlns=\"http://www.w3.org/2000/svg\" height=\"24px\"viewBox=\"0 0 24 24\"\n",
              "       width=\"24px\">\n",
              "    <path d=\"M0 0h24v24H0V0z\" fill=\"none\"/>\n",
              "    <path d=\"M18.56 5.44l.94 2.06.94-2.06 2.06-.94-2.06-.94-.94-2.06-.94 2.06-2.06.94zm-11 1L8.5 8.5l.94-2.06 2.06-.94-2.06-.94L8.5 2.5l-.94 2.06-2.06.94zm10 10l.94 2.06.94-2.06 2.06-.94-2.06-.94-.94-2.06-.94 2.06-2.06.94z\"/><path d=\"M17.41 7.96l-1.37-1.37c-.4-.4-.92-.59-1.43-.59-.52 0-1.04.2-1.43.59L10.3 9.45l-7.72 7.72c-.78.78-.78 2.05 0 2.83L4 21.41c.39.39.9.59 1.41.59.51 0 1.02-.2 1.41-.59l7.78-7.78 2.81-2.81c.8-.78.8-2.07 0-2.86zM5.41 20L4 18.59l7.72-7.72 1.47 1.35L5.41 20z\"/>\n",
              "  </svg>\n",
              "      </button>\n",
              "      \n",
              "  <style>\n",
              "    .colab-df-container {\n",
              "      display:flex;\n",
              "      flex-wrap:wrap;\n",
              "      gap: 12px;\n",
              "    }\n",
              "\n",
              "    .colab-df-convert {\n",
              "      background-color: #E8F0FE;\n",
              "      border: none;\n",
              "      border-radius: 50%;\n",
              "      cursor: pointer;\n",
              "      display: none;\n",
              "      fill: #1967D2;\n",
              "      height: 32px;\n",
              "      padding: 0 0 0 0;\n",
              "      width: 32px;\n",
              "    }\n",
              "\n",
              "    .colab-df-convert:hover {\n",
              "      background-color: #E2EBFA;\n",
              "      box-shadow: 0px 1px 2px rgba(60, 64, 67, 0.3), 0px 1px 3px 1px rgba(60, 64, 67, 0.15);\n",
              "      fill: #174EA6;\n",
              "    }\n",
              "\n",
              "    [theme=dark] .colab-df-convert {\n",
              "      background-color: #3B4455;\n",
              "      fill: #D2E3FC;\n",
              "    }\n",
              "\n",
              "    [theme=dark] .colab-df-convert:hover {\n",
              "      background-color: #434B5C;\n",
              "      box-shadow: 0px 1px 3px 1px rgba(0, 0, 0, 0.15);\n",
              "      filter: drop-shadow(0px 1px 2px rgba(0, 0, 0, 0.3));\n",
              "      fill: #FFFFFF;\n",
              "    }\n",
              "  </style>\n",
              "\n",
              "      <script>\n",
              "        const buttonEl =\n",
              "          document.querySelector('#df-8022ee45-7246-49ba-a72f-9f3f65ee8b7f button.colab-df-convert');\n",
              "        buttonEl.style.display =\n",
              "          google.colab.kernel.accessAllowed ? 'block' : 'none';\n",
              "\n",
              "        async function convertToInteractive(key) {\n",
              "          const element = document.querySelector('#df-8022ee45-7246-49ba-a72f-9f3f65ee8b7f');\n",
              "          const dataTable =\n",
              "            await google.colab.kernel.invokeFunction('convertToInteractive',\n",
              "                                                     [key], {});\n",
              "          if (!dataTable) return;\n",
              "\n",
              "          const docLinkHtml = 'Like what you see? Visit the ' +\n",
              "            '<a target=\"_blank\" href=https://colab.research.google.com/notebooks/data_table.ipynb>data table notebook</a>'\n",
              "            + ' to learn more about interactive tables.';\n",
              "          element.innerHTML = '';\n",
              "          dataTable['output_type'] = 'display_data';\n",
              "          await google.colab.output.renderOutput(dataTable, element);\n",
              "          const docLink = document.createElement('div');\n",
              "          docLink.innerHTML = docLinkHtml;\n",
              "          element.appendChild(docLink);\n",
              "        }\n",
              "      </script>\n",
              "    </div>\n",
              "  </div>\n",
              "  "
            ]
          },
          "metadata": {},
          "execution_count": 6
        }
      ]
    },
    {
      "cell_type": "code",
      "source": [
        "data.info()"
      ],
      "metadata": {
        "colab": {
          "base_uri": "https://localhost:8080/"
        },
        "id": "BpDH0kLl6f9P",
        "outputId": "55a289b9-45c5-48e0-8c5c-44d6e140b913"
      },
      "execution_count": null,
      "outputs": [
        {
          "output_type": "stream",
          "name": "stdout",
          "text": [
            "<class 'pandas.core.frame.DataFrame'>\n",
            "RangeIndex: 1001 entries, 0 to 1000\n",
            "Data columns (total 18 columns):\n",
            " #   Column              Non-Null Count  Dtype  \n",
            "---  ------              --------------  -----  \n",
            " 0   urun_adı            1001 non-null   object \n",
            " 1   marka_adı           1001 non-null   object \n",
            " 2   model_adı           1001 non-null   object \n",
            " 3   toplam_hacim        827 non-null    float64\n",
            " 4   yukseklik           472 non-null    float64\n",
            " 5   genislik            467 non-null    float64\n",
            " 6   dondurucu_ozelligi  977 non-null    object \n",
            " 7   tip                 975 non-null    object \n",
            " 8   enerji_sınıfı       981 non-null    object \n",
            " 9   garanti_suresi      965 non-null    float64\n",
            " 10  renk                1001 non-null   object \n",
            " 11  derinlik            465 non-null    float64\n",
            " 12  dondurucu_yeri      459 non-null    object \n",
            " 13  fiyat               1000 non-null   float64\n",
            " 14  yıldız              467 non-null    float64\n",
            " 15  yorumlar            428 non-null    object \n",
            " 16  degerlendirme       467 non-null    float64\n",
            " 17  yorum_sayısı        467 non-null    float64\n",
            "dtypes: float64(9), object(9)\n",
            "memory usage: 140.9+ KB\n"
          ]
        }
      ]
    },
    {
      "cell_type": "markdown",
      "source": [
        "# Yeni Bölüm"
      ],
      "metadata": {
        "id": "vkX6IescBjue"
      }
    },
    {
      "cell_type": "code",
      "source": [
        "# Calculate mean of vote average column\n",
        "C = data['yıldız'].mean()\n",
        "print(C)"
      ],
      "metadata": {
        "colab": {
          "base_uri": "https://localhost:8080/"
        },
        "id": "AO2Ne27k7Lcz",
        "outputId": "12eb6c2d-ceef-419d-deaf-31229654e018"
      },
      "execution_count": null,
      "outputs": [
        {
          "output_type": "stream",
          "name": "stdout",
          "text": [
            "4.33254817987152\n"
          ]
        }
      ]
    },
    {
      "cell_type": "code",
      "source": [
        "# Calculate the minimum number of votes required to be in the chart, m\n",
        "m = data['degerlendirme'].quantile(0.90)\n",
        "print(m)"
      ],
      "metadata": {
        "colab": {
          "base_uri": "https://localhost:8080/"
        },
        "id": "gBDvhH9R7b5r",
        "outputId": "6178cf74-e689-4156-9e7d-a1eeb5681c8c"
      },
      "execution_count": null,
      "outputs": [
        {
          "output_type": "stream",
          "name": "stdout",
          "text": [
            "43.400000000000034\n"
          ]
        }
      ]
    },
    {
      "cell_type": "code",
      "source": [
        "# yukarıdaki kriterlere göre filtrelerek yeni bir dataframe oluşturur\n",
        "q_buzdolabı = data.copy().loc[data['degerlendirme'] >= m]\n",
        "q_buzdolabı.shape"
      ],
      "metadata": {
        "colab": {
          "base_uri": "https://localhost:8080/"
        },
        "id": "b5hU_OL97k1U",
        "outputId": "b66e5123-e8cb-430d-f4ce-ff1fa808daad"
      },
      "execution_count": null,
      "outputs": [
        {
          "output_type": "execute_result",
          "data": {
            "text/plain": [
              "(47, 18)"
            ]
          },
          "metadata": {},
          "execution_count": 17
        }
      ]
    },
    {
      "cell_type": "code",
      "source": [
        "data.shape\n"
      ],
      "metadata": {
        "colab": {
          "base_uri": "https://localhost:8080/"
        },
        "id": "f90OFp_o7sDP",
        "outputId": "7da4236a-8cd6-4a09-fa06-f1776f6498b5"
      },
      "execution_count": null,
      "outputs": [
        {
          "output_type": "execute_result",
          "data": {
            "text/plain": [
              "(1001, 18)"
            ]
          },
          "metadata": {},
          "execution_count": 18
        }
      ]
    },
    {
      "cell_type": "code",
      "source": [
        "# Her bir buzdolabı için ağırlıklı ortalama alınır.\n",
        "def weighted_rating(x, m=m, C=C):\n",
        "    v = x['degerlendirme']\n",
        "    R = x['yıldız']\n",
        "    # Calculation based on the tv formula\n",
        "    return (v/(v+m) * R) + (m/(m+v) * C)"
      ],
      "metadata": {
        "id": "VfsUxQzF8Z99"
      },
      "execution_count": null,
      "outputs": []
    },
    {
      "cell_type": "code",
      "source": [
        "# ağırlıklı ortalamaya göre yeni özellik eklenecek.\n",
        "q_buzdolabı['score'] = q_buzdolabı.apply(weighted_rating, axis=1)"
      ],
      "metadata": {
        "id": "R-g4z8CP8pSw"
      },
      "execution_count": null,
      "outputs": []
    },
    {
      "cell_type": "code",
      "source": [
        "#Sort buzdolabı based on score calculated above\n",
        "q_buzdolabı = q_buzdolabı.sort_values('score', ascending=False)\n",
        "\n",
        "#Print the top 15 tv\n",
        "q_buzdolabı[['urun_adı', 'degerlendirme', 'yıldız', 'score']].head(20)"
      ],
      "metadata": {
        "colab": {
          "base_uri": "https://localhost:8080/",
          "height": 720
        },
        "id": "qvHTZShy8-JI",
        "outputId": "1adeaa5d-dbfc-4cb2-958a-a888a90a52e6"
      },
      "execution_count": null,
      "outputs": [
        {
          "output_type": "execute_result",
          "data": {
            "text/plain": [
              "                                              urun_adı  degerlendirme  yıldız  \\\n",
              "55    GRNE 4653 S 406 L Double Door Refrigerator 72...           67.0     4.9   \n",
              "8        RT46K6000WW Double Door No-Frost Refrigerator          431.0     4.6   \n",
              "93       RT50K6000S8 Double Door No-Frost Refrigerator           46.0     4.8   \n",
              "5               NF48001 No-Frost Refrigerator 20263685          347.0     4.6   \n",
              "62    NF52001 S Black 520 Lt No-Frost Refrigerator ...           75.0     4.7   \n",
              "186   ALK 471 NIX Inox A++ Combi No Frost Refrigera...          136.0     4.6   \n",
              "105   Rt50k6000ww Top Freezer Refrigerator with Twi...           52.0     4.7   \n",
              "98             AL 306 B Undercounter Mini Refrigerator           95.0     4.6   \n",
              "70    GN-H702HLHU A++ Double Door No-Frost Refriger...           91.0     4.6   \n",
              "397      Al 355 T A+ 450 Lt Static Refrigerator AL355T           66.0     4.6   \n",
              "99    NFK 48020 IG 427 LT No-Frost Refrigerator 202...           56.0     4.6   \n",
              "84    RT62K7040SL/TR Twin Cooling 631 Lt No-Frost R...           53.0     4.6   \n",
              "270                   WS 1480 NF Refrigerator 20264350           52.0     4.6   \n",
              "17       RT46K6000S8 Double Door No-Frost Refrigerator          289.0     4.5   \n",
              "43    GKNE 4801 392 L Double Door Refrigerator 7293...           49.0     4.6   \n",
              "9     Rb50rs334ww A Combi No Frost Refrigerator RB5...          237.0     4.5   \n",
              "1               NF45001 No-Frost Refrigerator 20263687          197.0     4.5   \n",
              "12     NFK48001 X No-Frost Combi Refrigerator 20263706          175.0     4.5   \n",
              "4        NFK48001 No-Frost Combi Refrigerator 20263706          167.0     4.5   \n",
              "147   AL 370 N A+ 465 Lt No Frost Refrigerator AL 3...          140.0     4.5   \n",
              "\n",
              "        score  \n",
              "55   4.676926  \n",
              "8    4.575532  \n",
              "93   4.573071  \n",
              "5    4.570268  \n",
              "62   4.565309  \n",
              "186  4.535299  \n",
              "105  4.532836  \n",
              "98   4.516131  \n",
              "70   4.513635  \n",
              "397  4.493899  \n",
              "99   4.483225  \n",
              "84   4.479591  \n",
              "270  4.478329  \n",
              "17   4.478137  \n",
              "43   4.474379  \n",
              "9    4.474082  \n",
              "1    4.469770  \n",
              "12   4.466724  \n",
              "4    4.465459  \n",
              "147  4.460374  "
            ],
            "text/html": [
              "\n",
              "  <div id=\"df-69ec73b0-679b-483e-9afd-787f2b9b383a\">\n",
              "    <div class=\"colab-df-container\">\n",
              "      <div>\n",
              "<style scoped>\n",
              "    .dataframe tbody tr th:only-of-type {\n",
              "        vertical-align: middle;\n",
              "    }\n",
              "\n",
              "    .dataframe tbody tr th {\n",
              "        vertical-align: top;\n",
              "    }\n",
              "\n",
              "    .dataframe thead th {\n",
              "        text-align: right;\n",
              "    }\n",
              "</style>\n",
              "<table border=\"1\" class=\"dataframe\">\n",
              "  <thead>\n",
              "    <tr style=\"text-align: right;\">\n",
              "      <th></th>\n",
              "      <th>urun_adı</th>\n",
              "      <th>degerlendirme</th>\n",
              "      <th>yıldız</th>\n",
              "      <th>score</th>\n",
              "    </tr>\n",
              "  </thead>\n",
              "  <tbody>\n",
              "    <tr>\n",
              "      <th>55</th>\n",
              "      <td>GRNE 4653 S 406 L Double Door Refrigerator 72...</td>\n",
              "      <td>67.0</td>\n",
              "      <td>4.9</td>\n",
              "      <td>4.676926</td>\n",
              "    </tr>\n",
              "    <tr>\n",
              "      <th>8</th>\n",
              "      <td>RT46K6000WW Double Door No-Frost Refrigerator</td>\n",
              "      <td>431.0</td>\n",
              "      <td>4.6</td>\n",
              "      <td>4.575532</td>\n",
              "    </tr>\n",
              "    <tr>\n",
              "      <th>93</th>\n",
              "      <td>RT50K6000S8 Double Door No-Frost Refrigerator</td>\n",
              "      <td>46.0</td>\n",
              "      <td>4.8</td>\n",
              "      <td>4.573071</td>\n",
              "    </tr>\n",
              "    <tr>\n",
              "      <th>5</th>\n",
              "      <td>NF48001 No-Frost Refrigerator 20263685</td>\n",
              "      <td>347.0</td>\n",
              "      <td>4.6</td>\n",
              "      <td>4.570268</td>\n",
              "    </tr>\n",
              "    <tr>\n",
              "      <th>62</th>\n",
              "      <td>NF52001 S Black 520 Lt No-Frost Refrigerator ...</td>\n",
              "      <td>75.0</td>\n",
              "      <td>4.7</td>\n",
              "      <td>4.565309</td>\n",
              "    </tr>\n",
              "    <tr>\n",
              "      <th>186</th>\n",
              "      <td>ALK 471 NIX Inox A++ Combi No Frost Refrigera...</td>\n",
              "      <td>136.0</td>\n",
              "      <td>4.6</td>\n",
              "      <td>4.535299</td>\n",
              "    </tr>\n",
              "    <tr>\n",
              "      <th>105</th>\n",
              "      <td>Rt50k6000ww Top Freezer Refrigerator with Twi...</td>\n",
              "      <td>52.0</td>\n",
              "      <td>4.7</td>\n",
              "      <td>4.532836</td>\n",
              "    </tr>\n",
              "    <tr>\n",
              "      <th>98</th>\n",
              "      <td>AL 306 B Undercounter Mini Refrigerator</td>\n",
              "      <td>95.0</td>\n",
              "      <td>4.6</td>\n",
              "      <td>4.516131</td>\n",
              "    </tr>\n",
              "    <tr>\n",
              "      <th>70</th>\n",
              "      <td>GN-H702HLHU A++ Double Door No-Frost Refriger...</td>\n",
              "      <td>91.0</td>\n",
              "      <td>4.6</td>\n",
              "      <td>4.513635</td>\n",
              "    </tr>\n",
              "    <tr>\n",
              "      <th>397</th>\n",
              "      <td>Al 355 T A+ 450 Lt Static Refrigerator AL355T</td>\n",
              "      <td>66.0</td>\n",
              "      <td>4.6</td>\n",
              "      <td>4.493899</td>\n",
              "    </tr>\n",
              "    <tr>\n",
              "      <th>99</th>\n",
              "      <td>NFK 48020 IG 427 LT No-Frost Refrigerator 202...</td>\n",
              "      <td>56.0</td>\n",
              "      <td>4.6</td>\n",
              "      <td>4.483225</td>\n",
              "    </tr>\n",
              "    <tr>\n",
              "      <th>84</th>\n",
              "      <td>RT62K7040SL/TR Twin Cooling 631 Lt No-Frost R...</td>\n",
              "      <td>53.0</td>\n",
              "      <td>4.6</td>\n",
              "      <td>4.479591</td>\n",
              "    </tr>\n",
              "    <tr>\n",
              "      <th>270</th>\n",
              "      <td>WS 1480 NF Refrigerator 20264350</td>\n",
              "      <td>52.0</td>\n",
              "      <td>4.6</td>\n",
              "      <td>4.478329</td>\n",
              "    </tr>\n",
              "    <tr>\n",
              "      <th>17</th>\n",
              "      <td>RT46K6000S8 Double Door No-Frost Refrigerator</td>\n",
              "      <td>289.0</td>\n",
              "      <td>4.5</td>\n",
              "      <td>4.478137</td>\n",
              "    </tr>\n",
              "    <tr>\n",
              "      <th>43</th>\n",
              "      <td>GKNE 4801 392 L Double Door Refrigerator 7293...</td>\n",
              "      <td>49.0</td>\n",
              "      <td>4.6</td>\n",
              "      <td>4.474379</td>\n",
              "    </tr>\n",
              "    <tr>\n",
              "      <th>9</th>\n",
              "      <td>Rb50rs334ww A Combi No Frost Refrigerator RB5...</td>\n",
              "      <td>237.0</td>\n",
              "      <td>4.5</td>\n",
              "      <td>4.474082</td>\n",
              "    </tr>\n",
              "    <tr>\n",
              "      <th>1</th>\n",
              "      <td>NF45001 No-Frost Refrigerator 20263687</td>\n",
              "      <td>197.0</td>\n",
              "      <td>4.5</td>\n",
              "      <td>4.469770</td>\n",
              "    </tr>\n",
              "    <tr>\n",
              "      <th>12</th>\n",
              "      <td>NFK48001 X No-Frost Combi Refrigerator 20263706</td>\n",
              "      <td>175.0</td>\n",
              "      <td>4.5</td>\n",
              "      <td>4.466724</td>\n",
              "    </tr>\n",
              "    <tr>\n",
              "      <th>4</th>\n",
              "      <td>NFK48001 No-Frost Combi Refrigerator 20263706</td>\n",
              "      <td>167.0</td>\n",
              "      <td>4.5</td>\n",
              "      <td>4.465459</td>\n",
              "    </tr>\n",
              "    <tr>\n",
              "      <th>147</th>\n",
              "      <td>AL 370 N A+ 465 Lt No Frost Refrigerator AL 3...</td>\n",
              "      <td>140.0</td>\n",
              "      <td>4.5</td>\n",
              "      <td>4.460374</td>\n",
              "    </tr>\n",
              "  </tbody>\n",
              "</table>\n",
              "</div>\n",
              "      <button class=\"colab-df-convert\" onclick=\"convertToInteractive('df-69ec73b0-679b-483e-9afd-787f2b9b383a')\"\n",
              "              title=\"Convert this dataframe to an interactive table.\"\n",
              "              style=\"display:none;\">\n",
              "        \n",
              "  <svg xmlns=\"http://www.w3.org/2000/svg\" height=\"24px\"viewBox=\"0 0 24 24\"\n",
              "       width=\"24px\">\n",
              "    <path d=\"M0 0h24v24H0V0z\" fill=\"none\"/>\n",
              "    <path d=\"M18.56 5.44l.94 2.06.94-2.06 2.06-.94-2.06-.94-.94-2.06-.94 2.06-2.06.94zm-11 1L8.5 8.5l.94-2.06 2.06-.94-2.06-.94L8.5 2.5l-.94 2.06-2.06.94zm10 10l.94 2.06.94-2.06 2.06-.94-2.06-.94-.94-2.06-.94 2.06-2.06.94z\"/><path d=\"M17.41 7.96l-1.37-1.37c-.4-.4-.92-.59-1.43-.59-.52 0-1.04.2-1.43.59L10.3 9.45l-7.72 7.72c-.78.78-.78 2.05 0 2.83L4 21.41c.39.39.9.59 1.41.59.51 0 1.02-.2 1.41-.59l7.78-7.78 2.81-2.81c.8-.78.8-2.07 0-2.86zM5.41 20L4 18.59l7.72-7.72 1.47 1.35L5.41 20z\"/>\n",
              "  </svg>\n",
              "      </button>\n",
              "      \n",
              "  <style>\n",
              "    .colab-df-container {\n",
              "      display:flex;\n",
              "      flex-wrap:wrap;\n",
              "      gap: 12px;\n",
              "    }\n",
              "\n",
              "    .colab-df-convert {\n",
              "      background-color: #E8F0FE;\n",
              "      border: none;\n",
              "      border-radius: 50%;\n",
              "      cursor: pointer;\n",
              "      display: none;\n",
              "      fill: #1967D2;\n",
              "      height: 32px;\n",
              "      padding: 0 0 0 0;\n",
              "      width: 32px;\n",
              "    }\n",
              "\n",
              "    .colab-df-convert:hover {\n",
              "      background-color: #E2EBFA;\n",
              "      box-shadow: 0px 1px 2px rgba(60, 64, 67, 0.3), 0px 1px 3px 1px rgba(60, 64, 67, 0.15);\n",
              "      fill: #174EA6;\n",
              "    }\n",
              "\n",
              "    [theme=dark] .colab-df-convert {\n",
              "      background-color: #3B4455;\n",
              "      fill: #D2E3FC;\n",
              "    }\n",
              "\n",
              "    [theme=dark] .colab-df-convert:hover {\n",
              "      background-color: #434B5C;\n",
              "      box-shadow: 0px 1px 3px 1px rgba(0, 0, 0, 0.15);\n",
              "      filter: drop-shadow(0px 1px 2px rgba(0, 0, 0, 0.3));\n",
              "      fill: #FFFFFF;\n",
              "    }\n",
              "  </style>\n",
              "\n",
              "      <script>\n",
              "        const buttonEl =\n",
              "          document.querySelector('#df-69ec73b0-679b-483e-9afd-787f2b9b383a button.colab-df-convert');\n",
              "        buttonEl.style.display =\n",
              "          google.colab.kernel.accessAllowed ? 'block' : 'none';\n",
              "\n",
              "        async function convertToInteractive(key) {\n",
              "          const element = document.querySelector('#df-69ec73b0-679b-483e-9afd-787f2b9b383a');\n",
              "          const dataTable =\n",
              "            await google.colab.kernel.invokeFunction('convertToInteractive',\n",
              "                                                     [key], {});\n",
              "          if (!dataTable) return;\n",
              "\n",
              "          const docLinkHtml = 'Like what you see? Visit the ' +\n",
              "            '<a target=\"_blank\" href=https://colab.research.google.com/notebooks/data_table.ipynb>data table notebook</a>'\n",
              "            + ' to learn more about interactive tables.';\n",
              "          element.innerHTML = '';\n",
              "          dataTable['output_type'] = 'display_data';\n",
              "          await google.colab.output.renderOutput(dataTable, element);\n",
              "          const docLink = document.createElement('div');\n",
              "          docLink.innerHTML = docLinkHtml;\n",
              "          element.appendChild(docLink);\n",
              "        }\n",
              "      </script>\n",
              "    </div>\n",
              "  </div>\n",
              "  "
            ]
          },
          "metadata": {},
          "execution_count": 21
        }
      ]
    },
    {
      "cell_type": "code",
      "source": [
        "#Print plot comment of the first 5 tv.\n",
        "data['yorumlar'].head()\n"
      ],
      "metadata": {
        "colab": {
          "base_uri": "https://localhost:8080/"
        },
        "id": "oHa-Wkcu9lNr",
        "outputId": "d44c5730-d798-4f43-b0fa-b7b722eb8b81"
      },
      "execution_count": null,
      "outputs": [
        {
          "output_type": "execute_result",
          "data": {
            "text/plain": [
              "0     bad service - REGAL MINI FRIDGE WORKS VERY WE...\n",
              "1     We bought it when it was on sale, thank you v...\n",
              "2     An ideal product for large families. I like i...\n",
              "3     Ideal product for a family of 2/3, it works f...\n",
              "4     Thank you so much. The friends who brought th...\n",
              "Name: yorumlar, dtype: object"
            ]
          },
          "metadata": {},
          "execution_count": 23
        }
      ]
    },
    {
      "cell_type": "code",
      "source": [
        "#Import TfIdfVectorizer from scikit-learn\n",
        "from sklearn.feature_extraction.text import TfidfVectorizer\n",
        "\n",
        "#Define a TF-IDF Vectorizer Object. Remove all english stop words such as 'the', 'a'\n",
        "tfidf = TfidfVectorizer(stop_words='english')\n",
        "\n",
        "#Replace NaN with an empty string\n",
        "data['yorumlar'] = data['yorumlar'].fillna('')\n",
        "\n",
        "#Construct the required TF-IDF matrix by fitting and transforming the data\n",
        "tfidf_matrix = tfidf.fit_transform(data['yorumlar'])\n",
        "\n",
        "#Output the shape of tfidf_matrix\n",
        "tfidf_matrix.shape"
      ],
      "metadata": {
        "colab": {
          "base_uri": "https://localhost:8080/"
        },
        "id": "2qzr-m3j9u84",
        "outputId": "11b89c25-b04b-49d2-8d84-53810b8bb2a2"
      },
      "execution_count": null,
      "outputs": [
        {
          "output_type": "execute_result",
          "data": {
            "text/plain": [
              "(1001, 3187)"
            ]
          },
          "metadata": {},
          "execution_count": 24
        }
      ]
    },
    {
      "cell_type": "code",
      "source": [
        "#Array mapping from feature integer indices to feature name.\n",
        "tfidf.get_feature_names()[3000:3020]"
      ],
      "metadata": {
        "colab": {
          "base_uri": "https://localhost:8080/"
        },
        "id": "jTtJzNhL-HEL",
        "outputId": "e8cb7b28-5c0c-41e7-c763-f64da845a866"
      },
      "execution_count": null,
      "outputs": [
        {
          "output_type": "execute_result",
          "data": {
            "text/plain": [
              "['uğur',\n",
              " 'vacuum',\n",
              " 'vacuuming',\n",
              " 'vacuums',\n",
              " 'vagrant',\n",
              " 'vain',\n",
              " 'value',\n",
              " 'values',\n",
              " 'valve',\n",
              " 'vast',\n",
              " 've',\n",
              " 'vee',\n",
              " 'vegetable',\n",
              " 'vegetables',\n",
              " 'vehicle',\n",
              " 'vehicles',\n",
              " 'vent',\n",
              " 'ventilation',\n",
              " 'verbs',\n",
              " 'verification']"
            ]
          },
          "metadata": {},
          "execution_count": 27
        }
      ]
    },
    {
      "cell_type": "code",
      "source": [
        "# Import linear_kernel\n",
        "from sklearn.metrics.pairwise import linear_kernel\n",
        "\n",
        "# Compute the cosine similarity matrix\n",
        "cosine_sim = linear_kernel(tfidf_matrix, tfidf_matrix)"
      ],
      "metadata": {
        "id": "Fvphb_JLCGlf"
      },
      "execution_count": null,
      "outputs": []
    },
    {
      "cell_type": "code",
      "source": [
        "cosine_sim.shape"
      ],
      "metadata": {
        "colab": {
          "base_uri": "https://localhost:8080/"
        },
        "id": "Hj8rd5OgCKuu",
        "outputId": "a41e4c35-abdb-42a6-a55e-9fdc76f403dc"
      },
      "execution_count": null,
      "outputs": [
        {
          "output_type": "execute_result",
          "data": {
            "text/plain": [
              "(1001, 1001)"
            ]
          },
          "metadata": {},
          "execution_count": 29
        }
      ]
    },
    {
      "cell_type": "code",
      "source": [
        "cosine_sim[1]"
      ],
      "metadata": {
        "colab": {
          "base_uri": "https://localhost:8080/"
        },
        "id": "PMKQF7xxCM5f",
        "outputId": "bf38fd9c-f106-4031-8047-660b5c192c16"
      },
      "execution_count": null,
      "outputs": [
        {
          "output_type": "execute_result",
          "data": {
            "text/plain": [
              "array([0.34555736, 1.        , 0.46352505, ..., 0.        , 0.        ,\n",
              "       0.        ])"
            ]
          },
          "metadata": {},
          "execution_count": 30
        }
      ]
    },
    {
      "cell_type": "code",
      "source": [
        "#Construct a reverse map of indices and model adı\n",
        "indices = pd.Series(data.index, index=data['urun_adı']).drop_duplicates()"
      ],
      "metadata": {
        "id": "9bKfvseOTMa6"
      },
      "execution_count": null,
      "outputs": []
    },
    {
      "cell_type": "code",
      "source": [
        "indices[:10]"
      ],
      "metadata": {
        "colab": {
          "base_uri": "https://localhost:8080/"
        },
        "id": "5NJqyBaTTQfX",
        "outputId": "4567e273-24f0-42c5-da8f-7b9e8e1de6b3"
      },
      "execution_count": null,
      "outputs": [
        {
          "output_type": "execute_result",
          "data": {
            "text/plain": [
              "urun_adı\n",
              " Bt 1001 A+ Office Desk Type Mini Refrigerator TT1533                0\n",
              " NF45001 No-Frost Refrigerator 20263687                              1\n",
              " RB50RS334SA Combi No Frost Refrigerator                             2\n",
              " Al 328 B Buy 257 Lt Refrigerator 328 B                              3\n",
              " NFK48001 No-Frost Combi Refrigerator 20263706                       4\n",
              " NF48001 No-Frost Refrigerator 20263685                              5\n",
              " SC25001 250 LT Static Refrigerator                                  6\n",
              " 270482 MI Inox Freezer at Bottom No Frost Refrigerator 270482 MI    7\n",
              " RT46K6000WW Double Door No-Frost Refrigerator                       8\n",
              " Rb50rs334ww A Combi No Frost Refrigerator RB50RS334WW               9\n",
              "dtype: int64"
            ]
          },
          "metadata": {},
          "execution_count": 40
        }
      ]
    },
    {
      "cell_type": "code",
      "source": [
        "#Function that takes in model adı as input and outputs most similar tv\n",
        "def get_recommendations(urun_adı, cosine_sim=cosine_sim):\n",
        "    # Get the index of the tv that matches the title\n",
        "    idx = indices[urun_adı]\n",
        "\n",
        "    # Get the pairwsie similarity scores of all tv with that tv\n",
        "    sim_scores = list(enumerate(cosine_sim[idx]))\n",
        "\n",
        "    # Sort the tv based on the similarity scores\n",
        "    sim_scores = sorted(sim_scores, key=lambda x: x[1], reverse=True)\n",
        "\n",
        "    # Get the scores of the 10 most similar tv\n",
        "    sim_scores = sim_scores[1:11]\n",
        "\n",
        "    # Get the tv indices\n",
        "    b_indices = [i[0] for i in sim_scores]\n",
        "\n",
        "    # Return the top 10 most similar tv\n",
        "    return data['urun_adı'].iloc[b_indices]"
      ],
      "metadata": {
        "id": "5mLfolfVTNJ8"
      },
      "execution_count": null,
      "outputs": []
    },
    {
      "cell_type": "code",
      "source": [
        "data[\"urun_adı\"][35]"
      ],
      "metadata": {
        "colab": {
          "base_uri": "https://localhost:8080/",
          "height": 36
        },
        "id": "qtLL13wjTWvl",
        "outputId": "2014fc02-3235-4ce7-ed4c-37d3513f6f2b"
      },
      "execution_count": null,
      "outputs": [
        {
          "output_type": "execute_result",
          "data": {
            "text/plain": [
              "' Nf52101 No-frost Refrigerator 20264830'"
            ],
            "application/vnd.google.colaboratory.intrinsic+json": {
              "type": "string"
            }
          },
          "metadata": {},
          "execution_count": 44
        }
      ]
    },
    {
      "cell_type": "code",
      "source": [
        "#puana göre tavsiye\n",
        "get_recommendations(' Db100 A Office Type Mini Refrigerator DB100')"
      ],
      "metadata": {
        "colab": {
          "base_uri": "https://localhost:8080/"
        },
        "id": "33UCIhTdTaGS",
        "outputId": "347df7fa-89d8-45ca-bd7f-b604fe7fdfed"
      },
      "execution_count": null,
      "outputs": [
        {
          "output_type": "execute_result",
          "data": {
            "text/plain": [
              "36            BD3086WFAN A++ Combi No Frost Refrigerator\n",
              "214       NF 48010 434 LT No-Frost Refrigerator 20264263\n",
              "347      970504 Mb Non Frost White Refrigerator 970504MB\n",
              "51          ST 25010 212 LT Static Refrigerator 20264253\n",
              "32      Bd3086wfdn A++ 682 Lt No Frost Refrigerator H...\n",
              "236          RL4323RBASP A++ Combi No-Frost Refrigerator\n",
              "75      GC-H502HLHU WiFi A++ Double Door No-Frost Ref...\n",
              "238     BD2076WFAN A++ Double Door No Frost Refrigerator\n",
              "38      RB56TS754SA Twin Cooling Combi No Frost Refri...\n",
              "566    ALK 484 N A+ 605 Lt Combi Type Nofrost Refrige...\n",
              "Name: urun_adı, dtype: object"
            ]
          },
          "metadata": {},
          "execution_count": 43
        }
      ]
    },
    {
      "cell_type": "code",
      "source": [
        "get_recommendations(' Nf52101 No-frost Refrigerator 20264830')"
      ],
      "metadata": {
        "colab": {
          "base_uri": "https://localhost:8080/"
        },
        "id": "GSai6CqYTeB5",
        "outputId": "2801fb2d-acdf-4cd2-82a6-7607ec2f7169"
      },
      "execution_count": null,
      "outputs": [
        {
          "output_type": "execute_result",
          "data": {
            "text/plain": [
              "4          NFK48001 No-Frost Combi Refrigerator 20263706\n",
              "5                 NF48001 No-Frost Refrigerator 20263685\n",
              "267     BD2155wfnn Double Door No Frost Refrigerator ...\n",
              "274         BD3056WFUN Combi No Frost Refrigerator BZE76\n",
              "8          RT46K6000WW Double Door No-Frost Refrigerator\n",
              "544     RB46TS334WW Twin Cooling Plus Combi No Frost ...\n",
              "32      Bd3086wfdn A++ 682 Lt No Frost Refrigerator H...\n",
              "38      RB56TS754SA Twin Cooling Combi No Frost Refri...\n",
              "397        Al 355 T A+ 450 Lt Static Refrigerator AL355T\n",
              "43      GKNE 4801 392 L Double Door Refrigerator 7293...\n",
              "Name: urun_adı, dtype: object"
            ]
          },
          "metadata": {},
          "execution_count": 45
        }
      ]
    }
  ]
}